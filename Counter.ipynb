{
 "cells": [
  {
   "cell_type": "code",
   "execution_count": null,
   "metadata": {
    "collapsed": false
   },
   "outputs": [],
   "source": [
    "!pip install multiset"
   ]
  },
  {
   "cell_type": "code",
   "execution_count": 62,
   "metadata": {
    "collapsed": false
   },
   "outputs": [],
   "source": [
    "from multiset import Multiset\n",
    "\n",
    "def begin():\n",
    "    global discard\n",
    "    global strata\n",
    "    strata = []\n",
    "    discard = Multiset()\n",
    "\n",
    "def draw(city):\n",
    "    global discard\n",
    "    global strata\n",
    "    discard += Multiset([city])\n",
    "    strata = [s for s in strata if s]\n",
    "    if strata:\n",
    "        strata[-1] -= Multiset([city])\n",
    "\n",
    "def status():\n",
    "    for layer in strata[::-1]:\n",
    "        if layer:\n",
    "            print len(layer), layer\n",
    "    print \"discard\", len(discard), discard\n",
    "    \n",
    "def epidemic(city):\n",
    "    global discard\n",
    "    discard += Multiset([city])\n",
    "    strata.append(discard)\n",
    "    discard = Multiset()\n",
    "\n",
    "d = draw\n",
    "e = epidemic"
   ]
  },
  {
   "cell_type": "code",
   "execution_count": 66,
   "metadata": {
    "collapsed": false
   },
   "outputs": [
    {
     "name": "stdout",
     "output_type": "stream",
     "text": [
      "11 {istanbul, chicago, cairo, washington, tripoli, lagos, london, new york, new york, sao paulo, jacksonville}\n",
      "discard 6 {lagos, cairo, tripoli, new york, sao paulo, jacksonville}\n"
     ]
    }
   ],
   "source": [
    "# February Game (2017-01-06)\n",
    "begin()\n",
    "d(\"jacksonville\")\n",
    "d(\"sao paulo\")\n",
    "d(\"london\")\n",
    "d(\"cairo\")\n",
    "d(\"tripoli\")\n",
    "d(\"cairo\")\n",
    "d(\"new york\")\n",
    "d(\"chicago\")\n",
    "d(\"new york\")\n",
    "\n",
    "e(\"lagos\")\n",
    "d(\"sao paulo\")\n",
    "d(\"new york\")\n",
    "d(\"new york\")\n",
    "d(\"london\")\n",
    "d(\"cairo\")\n",
    "d(\"chicago\")\n",
    "d(\"cairo\")\n",
    "d(\"jacksonville\")\n",
    "d(\"tripoli\")\n",
    "d(\"lagos\")\n",
    "\n",
    "e(\"istanbul\")\n",
    "d(\"new york\")\n",
    "d(\"cairo\")\n",
    "d(\"jacksonville\")\n",
    "d(\"lagos\")\n",
    "d(\"new york\")\n",
    "d(\"tripoli\")\n",
    "d(\"istanbul\")\n",
    "d(\"chicago\")\n",
    "d(\"cairo\")\n",
    "d(\"sao paulo\")\n",
    "d(\"london\")\n",
    "d(\"tripoli\")\n",
    "d(\"new york\")\n",
    "d(\"lagos\")\n",
    "d(\"sao paulo\")\n",
    "d(\"jacksonville\")\n",
    "e(\"washington\")\n",
    "d(\"jacksonville\")\n",
    "d(\"tripoli\")\n",
    "d(\"new york\")\n",
    "d(\"sao paulo\")\n",
    "d(\"lagos\")\n",
    "d(\"cairo\")\n",
    "status()\n"
   ]
  }
 ],
 "metadata": {
  "kernelspec": {
   "display_name": "Python 2",
   "language": "python",
   "name": "python2"
  },
  "language_info": {
   "codemirror_mode": {
    "name": "ipython",
    "version": 2
   },
   "file_extension": ".py",
   "mimetype": "text/x-python",
   "name": "python",
   "nbconvert_exporter": "python",
   "pygments_lexer": "ipython2",
   "version": "2.7.13"
  }
 },
 "nbformat": 4,
 "nbformat_minor": 0
}
